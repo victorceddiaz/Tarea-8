{
  "nbformat": 4,
  "nbformat_minor": 0,
  "metadata": {
    "colab": {
      "name": "ListasDoblementeLigadas1310.ipynb",
      "provenance": [],
      "collapsed_sections": [],
      "authorship_tag": "ABX9TyMe6bY1D1pxFZkAE4thNCms",
      "include_colab_link": true
    },
    "kernelspec": {
      "name": "python3",
      "display_name": "Python 3"
    },
    "language_info": {
      "name": "python"
    }
  },
  "cells": [
    {
      "cell_type": "markdown",
      "metadata": {
        "id": "view-in-github",
        "colab_type": "text"
      },
      "source": [
        "<a href=\"https://colab.research.google.com/github/victorceddiaz/Tarea-8-/blob/main/ListasDoblementeLigadas1310.ipynb\" target=\"_parent\"><img src=\"https://colab.research.google.com/assets/colab-badge.svg\" alt=\"Open In Colab\"/></a>"
      ]
    },
    {
      "cell_type": "markdown",
      "metadata": {
        "id": "NCZM9wdLs1__"
      },
      "source": [
        "#Lista Doblemente Ligada\n",
        "\n",
        "- Crear un nodo 10\n",
        "    - Imprimir el valor del nodo\n",
        "- Crear dos nodos 10, 20\n",
        "    - Imprimir el valor del primero\n",
        "    - Imprimir el valor del segundo\n",
        "    - Transversal\n",
        "- Crear dos nodos 10, 20, 30, 40\n",
        "    - Imprimir el valor del primero\n",
        "    - Imprimir el valor del ultimo\n",
        "    - Transversal\n",
        "    - Reverse Transversal\n",
        "    - Insertar nodo al final\n"
      ]
    },
    {
      "cell_type": "code",
      "metadata": {
        "colab": {
          "base_uri": "https://localhost:8080/"
        },
        "id": "6iEdaax5t6R3",
        "outputId": "2bda4729-231b-42b5-edf3-bea399bbf590"
      },
      "source": [
        "# ejercicio 1\n",
        "print(\"Ejercicio 1\")\n",
        "head=NodoDoble(10)\n",
        "tail=head\n",
        "print(head.data)\n",
        "print(tail.data)\n",
        "\n",
        "# ejercicio 2\n",
        "print(\"\\nEjercicio 2\")\n",
        "head=NodoDoble(10, NodoDoble(20))\n",
        "head.next.prev=head\n",
        "tail=head.next\n",
        "print(f'El primero : {head.data}')\n",
        "print(f'El primero : {tail.prev.data}')\n",
        "print(f'El segundo : {head.next.data}')\n",
        "print(f'El segundo : {tail.data}')\n",
        "\n",
        "# ejercicio 3\n",
        "print(\"\\nEjercicio 3\")\n",
        "head=NodoDoble(10, NodoDoble(20, NodoDoble(30, NodoDoble(40))))\n",
        "tail=head.next.next.next\n",
        "head.next.prev=head\n",
        "head.next.next.prev=head.next\n",
        "tail.prev=head.next.next\n",
        "print(f'El primero : {head.data}')\n",
        "print(f'El primero : {tail.prev.prev.prev.data}')\n",
        "print(f'El ultimo: {tail.data}')\n",
        "print(f'El ultimo : {head.next.next.next.data}')\n",
        "\n",
        "# transversal\n",
        "print(\"\\nTransversal\")\n",
        "curr_node=head\n",
        "while curr_node != None :\n",
        "    print(f'| {curr_node.data} | -->', end=\"\")\n",
        "    curr_node=curr_node.next\n",
        "\n",
        "# reverse transversal\n",
        "print(\"\\n\\nReverse transversal\")\n",
        "curr_node=tail\n",
        "while curr_node != None :\n",
        "    print(f'| {curr_node.data} | -->', end=\"\")\n",
        "    curr_node=curr_node.prev\n",
        "\n",
        "print(\"\\n\\nInsertar nodo al final\")\n",
        "tail.next=NodoDoble(50, None, tail)\n",
        "tail=tail.next\n",
        "curr_node=head\n",
        "while curr_node != None :\n",
        "    print(f'| {curr_node.data} | -->', end=\"\")\n",
        "    curr_node=curr_node.next\n"
      ],
      "execution_count": 38,
      "outputs": [
        {
          "output_type": "stream",
          "name": "stdout",
          "text": [
            "Ejercicio 1\n",
            "10\n",
            "10\n",
            "\n",
            "Ejercicio 2\n",
            "El primero : 10\n",
            "El primero : 10\n",
            "El segundo : 20\n",
            "El segundo : 20\n",
            "\n",
            "Ejercicio 3\n",
            "El primero : 10\n",
            "El primero : 10\n",
            "El ultimo: 40\n",
            "El ultimo : 40\n",
            "\n",
            "Transversal\n",
            "| 10 | -->| 20 | -->| 30 | -->| 40 | -->\n",
            "\n",
            "Reverse transversal\n",
            "| 40 | -->| 30 | -->| 20 | -->| 10 | -->\n",
            "\n",
            "Insertar nodo al final\n",
            "| 10 | -->| 20 | -->| 30 | -->| 40 | -->| 50 | -->"
          ]
        }
      ]
    },
    {
      "cell_type": "code",
      "metadata": {
        "id": "S9sOLFZrqMJP"
      },
      "source": [
        "class NodoDoble :\n",
        "    def __init__(self, value, siguiente=None, previo=None) :\n",
        "        self.data=value\n",
        "        self.next=siguiente\n",
        "        self.prev=previo"
      ],
      "execution_count": 4,
      "outputs": []
    },
    {
      "cell_type": "code",
      "metadata": {
        "id": "iwclAuI380Ue"
      },
      "source": [
        "class DoubleLinkedlist :\n",
        "    def __init__(self) :\n",
        "        self.head = None\n",
        "        self.tail = None\n",
        "        self.size = 0\n",
        " \n",
        "    def get_size(self) :\n",
        "        return self.size\n",
        "\n",
        "    def is_empty(self) :\n",
        "        return self.size == 0 \n",
        "\n",
        "    def append(self, value) :\n",
        "        if self.is_empty() :\n",
        "            self.head=NodoDoble(value)\n",
        "            self.tail = self.head\n",
        "        else :\n",
        "            self.tail.next = NodoDoble(value, None, self.tail)\n",
        "            self.tail = self.tail.next\n",
        "        self.size += 1\n",
        "\n",
        "    def find_from_tail(self, value) :\n",
        "        curr_node = self.tail\n",
        "        contador=1\n",
        "        if self.is_empty() :\n",
        "            print(\"No existe ningún nodo.\")\n",
        "        else :\n",
        "            while curr_node.data != value :\n",
        "                curr_node = curr_node.prev\n",
        "                contador+=1\n",
        "            if curr_node.data == value:\n",
        "                return contador\n",
        "\n",
        "    def find_from_head(self, value) :\n",
        "        curr_node = self.head\n",
        "        contador=1\n",
        "        if self.is_empty() :\n",
        "            print(\"No existe ningún nodo.\")\n",
        "        else :\n",
        "            while curr_node.data != value :\n",
        "                curr_node = curr_node.next\n",
        "                contador+=1\n",
        "            if curr_node.data == value:\n",
        "                return contador\n",
        "\n",
        "    def remove_from_tail(self, value) :\n",
        "        curr_node=self.tail\n",
        "        while curr_node.data != value :\n",
        "            curr_node = curr_node.prev\n",
        "        if curr_node.data == value:\n",
        "            curr_node.prev.next = curr_node.next\n",
        "            curr_node.next.prev = curr_node.prev\n",
        "        self.size -= 1\n",
        "\n",
        "    def remove_from_head(self, value) :\n",
        "        curr_node=self.head\n",
        "        while curr_node.data != value :\n",
        "            curr_node = curr_node.next\n",
        "        if curr_node.data == value:\n",
        "            curr_node.prev.next = curr_node.next\n",
        "            curr_node.next.prev = curr_node.prev\n",
        "        self.size -= 1\n",
        "\n",
        "    def transversal(self) :\n",
        "        curr_node=self.head\n",
        "        while curr_node != None :\n",
        "            print(f'|{curr_node.data}| --> ', end=\"\")\n",
        "            curr_node = curr_node.next\n",
        "        print(\"\")\n",
        "    \n",
        "    def reverse_transversal(self) :\n",
        "        curr_node=self.tail\n",
        "        while curr_node != None :\n",
        "            print(f'|{curr_node.data}| --> ', end=\"\")\n",
        "            curr_node = curr_node.prev\n",
        "        print(\"\")   "
      ],
      "execution_count": 43,
      "outputs": []
    },
    {
      "cell_type": "code",
      "metadata": {
        "colab": {
          "base_uri": "https://localhost:8080/"
        },
        "id": "ayRm8jVK_1D6",
        "outputId": "3d0343b2-6374-4f1f-d510-abf850345394"
      },
      "source": [
        "ldd=DoubleLinkedlist()\n",
        "\n",
        "# append\n",
        "ldd.append(10)\n",
        "ldd.append(20)\n",
        "ldd.append(30)\n",
        "ldd.append(40)\n",
        "ldd.append(50)\n",
        "ldd.append(60)\n",
        "\n",
        "# get_size\n",
        "print(f'get_size : {ldd.get_size()}\\n')\n",
        "\n",
        "# is_empty\n",
        "print(f'is_empty : {ldd.is_empty()}\\n')\n",
        "\n",
        "# find_from_head\n",
        "print(f'find_from_head : {ldd.find_from_head(50)}\\n')\n",
        "\n",
        "# find_from_tail\n",
        "print(f'find_from_tail : {ldd.find_from_tail(30)}\\n')\n",
        "\n",
        "# remove_from_head\n",
        "ldd.remove_from_head(50)\n",
        "\n",
        "# remove_from_tail\n",
        "ldd.remove_from_tail(20)\n",
        "\n",
        "# transversal\n",
        "print(\"transversal\")\n",
        "ldd.transversal()\n",
        "print(\"\")\n",
        "\n",
        "# reverse_transversal\n",
        "print(\"reverse_transversal\")\n",
        "ldd.reverse_transversal()"
      ],
      "execution_count": 62,
      "outputs": [
        {
          "output_type": "stream",
          "name": "stdout",
          "text": [
            "get_size : 6\n",
            "\n",
            "is_empty : False\n",
            "\n",
            "find_from_head : 5\n",
            "\n",
            "find_from_tail : 4\n",
            "\n",
            "transversal\n",
            "|10| --> |30| --> |40| --> |60| --> \n",
            "\n",
            "reverse_transversal\n",
            "|60| --> |40| --> |30| --> |10| --> \n"
          ]
        }
      ]
    }
  ]
}